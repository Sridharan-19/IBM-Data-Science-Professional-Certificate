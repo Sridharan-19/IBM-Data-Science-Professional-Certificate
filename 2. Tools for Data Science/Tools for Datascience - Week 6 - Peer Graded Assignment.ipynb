{
 "cells": [
  {
   "cell_type": "markdown",
   "metadata": {},
   "source": [
    "<center>\n",
    "    <img src=\"https://cf-courses-data.s3.us.cloud-object-storage.appdomain.cloud/IBMDeveloperSkillsNetwork-DS0105EN-SkillsNetwork/labs/Module2/images/SN_web_lightmode.png\" width=\"300\" alt=\"cognitiveclass.ai logo\">\n",
    "</center>\n"
   ]
  },
  {
   "cell_type": "markdown",
   "metadata": {},
   "source": [
    "# Data Science Tools and Ecosystem"
   ]
  },
  {
   "cell_type": "markdown",
   "metadata": {},
   "source": [
    "## Author : \n",
    "Sridharan Chandran"
   ]
  },
  {
   "cell_type": "markdown",
   "metadata": {},
   "source": [
    "In this notebook, Data Science Tools and Ecosystem are summarized."
   ]
  },
  {
   "cell_type": "markdown",
   "metadata": {},
   "source": [
    "Some of the popular languages that Data Scientists use are:\n",
    "1. Python. Python is a general-purpose programming language that can get used to develop any software. \n",
    "2. SQL (Structured Query Language) SQL is one of the world's most widely used programming languages. \n",
    "3. R programming language\n",
    "4. Julia.\n",
    "5. JavaScript.\n",
    "6. Scala.\n",
    "7. Java."
   ]
  },
  {
   "cell_type": "markdown",
   "metadata": {},
   "source": [
    "Some of the commonly used libraries used by Data Scientists include\n",
    "1. TensorFlow.\n",
    "2. Numpy\n",
    "3. SciPy.\n",
    "4. Pandas.\n",
    "5. Matplotlib.\n",
    "6. Keras.\n",
    "7. SciKit-Learn.\n",
    "8. PyTorch."
   ]
  },
  {
   "cell_type": "markdown",
   "metadata": {},
   "source": [
    "| Sl. No.  |Tools Name      | \n",
    "|:--------:|:--------------:|\n",
    "|    1     |  Numpy         |\n",
    "|    2     |  Pandas        |\n",
    "|    3     |  Scikit-Learn  |\n",
    "|    4     |  SciPy         |\n",
    "|    5     |  Matplotlib    |"
   ]
  },
  {
   "cell_type": "markdown",
   "metadata": {},
   "source": [
    "### Below are a few examples of evaluating arithmetic expressions in Python"
   ]
  },
  {
   "cell_type": "code",
   "execution_count": 2,
   "metadata": {
    "tags": []
   },
   "outputs": [
    {
     "name": "stdout",
     "output_type": "stream",
     "text": [
      "Original string is : 4 * 6 - 3\n",
      "21\n"
     ]
    }
   ],
   "source": [
    "# initiale string\n",
    "text = \"4 * 6 - 3\"\n",
    "\n",
    "# lets print the original string\n",
    "print(\"Original string is : \" + text)\n",
    "\n",
    "# Expression evaluation in String using eval()\n",
    "result = eval(text)\n",
    "print(result)"
   ]
  },
  {
   "cell_type": "code",
   "execution_count": 3,
   "metadata": {
    "tags": []
   },
   "outputs": [
    {
     "name": "stdout",
     "output_type": "stream",
     "text": [
      "3.3333333333333335\n"
     ]
    }
   ],
   "source": [
    "# Converting minutes to Hours\n",
    "Total_minutes = 200\n",
    "Minutes_per_Hour = 60\n",
    "Total_Hours = Total_minutes/Minutes_per_Hour\n",
    "print(Total_Hours)"
   ]
  },
  {
   "cell_type": "markdown",
   "metadata": {},
   "source": [
    "**Objectives:**\n",
    "\n",
    "*Some of the popular languages that Data Scientists use are:*\n",
    "*  Python. Python is a general-purpose programming language that can get used to develop any software. \n",
    "*  SQL (Structured Query Language) SQL is one of the world's most widely used programming languages. \n",
    "*  R programming language\n",
    "*  Julia.\n",
    "*  JavaScript.\n",
    "*  Scala.\n",
    "*  Java."
   ]
  },
  {
   "cell_type": "code",
   "execution_count": null,
   "metadata": {},
   "outputs": [],
   "source": []
  },
  {
   "cell_type": "code",
   "execution_count": null,
   "metadata": {},
   "outputs": [],
   "source": []
  }
 ],
 "metadata": {
  "kernelspec": {
   "display_name": "Python 3 (ipykernel)",
   "language": "python",
   "name": "python3"
  },
  "language_info": {
   "codemirror_mode": {
    "name": "ipython",
    "version": 3
   },
   "file_extension": ".py",
   "mimetype": "text/x-python",
   "name": "python",
   "nbconvert_exporter": "python",
   "pygments_lexer": "ipython3",
   "version": "3.11.4"
  }
 },
 "nbformat": 4,
 "nbformat_minor": 4
}
